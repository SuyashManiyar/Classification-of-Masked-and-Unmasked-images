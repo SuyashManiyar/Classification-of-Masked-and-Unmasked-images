{
  "nbformat": 4,
  "nbformat_minor": 0,
  "metadata": {
    "colab": {
      "name": "projectct",
      "provenance": [],
      "collapsed_sections": []
    },
    "kernelspec": {
      "display_name": "Python 3",
      "name": "python3"
    },
    "language_info": {
      "name": "python"
    }
  },
  "cells": [
    {
      "cell_type": "code",
      "metadata": {
        "id": "oPQQrgFUA96d"
      },
      "source": [
        "import os\n",
        "import pandas as pd\n",
        "import numpy as np\n",
        "import cv2\n",
        "from tensorflow.keras.utils import to_categorical\n",
        "from sklearn.preprocessing import LabelBinarizer\n",
        "from sklearn.model_selection import train_test_split\n"
      ],
      "execution_count": 32,
      "outputs": []
    },
    {
      "cell_type": "code",
      "metadata": {
        "colab": {
          "base_uri": "https://localhost:8080/"
        },
        "id": "59_e8op8BFww",
        "outputId": "bef3fa00-e6f0-45b9-9384-d42ca130b4d8"
      },
      "source": [
        "Dataset=\"/content/drive/MyDrive/exampledata\"\n",
        "Data_Dir=os.listdir(Dataset)\n",
        "print(Data_Dir)"
      ],
      "execution_count": 33,
      "outputs": [
        {
          "output_type": "stream",
          "text": [
            "['without_mask', 'with_mask']\n"
          ],
          "name": "stdout"
        }
      ]
    },
    {
      "cell_type": "code",
      "metadata": {
        "id": "oeZlKOP7QOWG"
      },
      "source": [
        "images=[]\n",
        "\n",
        "img_rows=112\n",
        "img_cols=112\n",
        "for category in Data_Dir:\n",
        "    folder_path=os.path.join(Dataset,category)\n",
        "    for img in os.listdir(folder_path):\n",
        "        img_path=os.path.join(folder_path,img)\n",
        "        img=cv2.imread(img_path)\n",
        "        grayscale_img=cv2.cvtColor(img,cv2.COLOR_BGR2GRAY)\n",
        "        resized_img=cv2.resize(grayscale_img,(img_rows,img_cols))\n",
        "            \n",
        "            \n",
        "        images.append(resized_img)\n",
        "       \n"
      ],
      "execution_count": 34,
      "outputs": []
    },
    {
      "cell_type": "code",
      "metadata": {
        "colab": {
          "base_uri": "https://localhost:8080/"
        },
        "id": "cmHkFDd-mSlO",
        "outputId": "78f97bba-36e7-4f4d-ca6c-4903e63c80e9"
      },
      "source": [
        "images[0]"
      ],
      "execution_count": 35,
      "outputs": [
        {
          "output_type": "execute_result",
          "data": {
            "text/plain": [
              "array([[ 42,  42,  44, ..., 123, 101,  87],\n",
              "       [ 42,  42,  44, ...,  98,  78,  67],\n",
              "       [ 42,  42,  44, ...,  82,  71,  70],\n",
              "       ...,\n",
              "       [ 22,  20,  18, ..., 171, 108, 101],\n",
              "       [ 23,  22,  19, ..., 179,  99,  96],\n",
              "       [ 26,  24,  21, ..., 114,  98, 102]], dtype=uint8)"
            ]
          },
          "metadata": {
            "tags": []
          },
          "execution_count": 35
        }
      ]
    },
    {
      "cell_type": "code",
      "metadata": {
        "id": "L068RzcIjPf1"
      },
      "source": [
        "images=np.array(images)/255.0\n",
        "images=np.reshape(images,(images.shape[0],img_rows,img_cols,1))"
      ],
      "execution_count": 36,
      "outputs": []
    },
    {
      "cell_type": "code",
      "metadata": {
        "colab": {
          "base_uri": "https://localhost:8080/"
        },
        "id": "feSqa30vVtA6",
        "outputId": "dcb5a83b-3732-46e8-f2d3-a958cbee86a0"
      },
      "source": [
        "images[0]"
      ],
      "execution_count": 37,
      "outputs": [
        {
          "output_type": "execute_result",
          "data": {
            "text/plain": [
              "array([[[0.16470588],\n",
              "        [0.16470588],\n",
              "        [0.17254902],\n",
              "        ...,\n",
              "        [0.48235294],\n",
              "        [0.39607843],\n",
              "        [0.34117647]],\n",
              "\n",
              "       [[0.16470588],\n",
              "        [0.16470588],\n",
              "        [0.17254902],\n",
              "        ...,\n",
              "        [0.38431373],\n",
              "        [0.30588235],\n",
              "        [0.2627451 ]],\n",
              "\n",
              "       [[0.16470588],\n",
              "        [0.16470588],\n",
              "        [0.17254902],\n",
              "        ...,\n",
              "        [0.32156863],\n",
              "        [0.27843137],\n",
              "        [0.2745098 ]],\n",
              "\n",
              "       ...,\n",
              "\n",
              "       [[0.08627451],\n",
              "        [0.07843137],\n",
              "        [0.07058824],\n",
              "        ...,\n",
              "        [0.67058824],\n",
              "        [0.42352941],\n",
              "        [0.39607843]],\n",
              "\n",
              "       [[0.09019608],\n",
              "        [0.08627451],\n",
              "        [0.0745098 ],\n",
              "        ...,\n",
              "        [0.70196078],\n",
              "        [0.38823529],\n",
              "        [0.37647059]],\n",
              "\n",
              "       [[0.10196078],\n",
              "        [0.09411765],\n",
              "        [0.08235294],\n",
              "        ...,\n",
              "        [0.44705882],\n",
              "        [0.38431373],\n",
              "        [0.4       ]]])"
            ]
          },
          "metadata": {
            "tags": []
          },
          "execution_count": 37
        }
      ]
    },
    {
      "cell_type": "code",
      "metadata": {
        "id": "-Ec_OLLykfSm"
      },
      "source": [
        "label1=[1]*1958\n",
        "label0=[0]*1580\n",
        "labelreal=label1+label0"
      ],
      "execution_count": 38,
      "outputs": []
    },
    {
      "cell_type": "code",
      "metadata": {
        "colab": {
          "base_uri": "https://localhost:8080/"
        },
        "id": "_v16RuFLmrUR",
        "outputId": "4d0d843b-b45d-46df-8e0b-5f06d3fa13fd"
      },
      "source": [
        "labelreal[-1]"
      ],
      "execution_count": 39,
      "outputs": [
        {
          "output_type": "execute_result",
          "data": {
            "text/plain": [
              "0"
            ]
          },
          "metadata": {
            "tags": []
          },
          "execution_count": 39
        }
      ]
    },
    {
      "cell_type": "code",
      "metadata": {
        "colab": {
          "base_uri": "https://localhost:8080/"
        },
        "id": "h7Eyt68VoUhI",
        "outputId": "309258c0-3e6f-4b6b-da2b-be0d1737269f"
      },
      "source": [
        "print(len(images))"
      ],
      "execution_count": 40,
      "outputs": [
        {
          "output_type": "stream",
          "text": [
            "3538\n"
          ],
          "name": "stdout"
        }
      ]
    },
    {
      "cell_type": "code",
      "metadata": {
        "id": "4H8pTVjOmvN1"
      },
      "source": [
        "\n",
        "labels=np.array(labelreal)\n",
        "(X_tr,X_te,y_tr,y_te)=train_test_split(images,labels,test_size=0.5,random_state=0)\n",
        "\n",
        "y_te2 = y_te"
      ],
      "execution_count": 41,
      "outputs": []
    },
    {
      "cell_type": "code",
      "metadata": {
        "colab": {
          "base_uri": "https://localhost:8080/"
        },
        "id": "08RTn8EEp5c0",
        "outputId": "af61bff5-947c-494b-f979-97de96f6e34c"
      },
      "source": [
        "labels"
      ],
      "execution_count": 42,
      "outputs": [
        {
          "output_type": "execute_result",
          "data": {
            "text/plain": [
              "array([1, 1, 1, ..., 0, 0, 0])"
            ]
          },
          "metadata": {
            "tags": []
          },
          "execution_count": 42
        }
      ]
    },
    {
      "cell_type": "code",
      "metadata": {
        "colab": {
          "base_uri": "https://localhost:8080/"
        },
        "id": "Bk86QumLp97T",
        "outputId": "aa44b44f-2f54-4f5f-999b-411e5aa8eb23"
      },
      "source": [
        "labels[0:1958]"
      ],
      "execution_count": 43,
      "outputs": [
        {
          "output_type": "execute_result",
          "data": {
            "text/plain": [
              "array([1, 1, 1, ..., 1, 1, 1])"
            ]
          },
          "metadata": {
            "tags": []
          },
          "execution_count": 43
        }
      ]
    },
    {
      "cell_type": "code",
      "metadata": {
        "colab": {
          "base_uri": "https://localhost:8080/"
        },
        "id": "LuoNy4B2qCZm",
        "outputId": "a891a23d-c0a4-40f7-b5b8-7e305748b5d6"
      },
      "source": [
        "labels[1958:0]"
      ],
      "execution_count": 44,
      "outputs": [
        {
          "output_type": "execute_result",
          "data": {
            "text/plain": [
              "array([], dtype=int64)"
            ]
          },
          "metadata": {
            "tags": []
          },
          "execution_count": 44
        }
      ]
    },
    {
      "cell_type": "code",
      "metadata": {
        "colab": {
          "base_uri": "https://localhost:8080/"
        },
        "id": "tOQfeYbjqJ5o",
        "outputId": "0b302ff0-b4fa-4b54-b3e0-9887a7b707a7"
      },
      "source": [
        "X_tr.shape"
      ],
      "execution_count": 45,
      "outputs": [
        {
          "output_type": "execute_result",
          "data": {
            "text/plain": [
              "(1769, 112, 112, 1)"
            ]
          },
          "metadata": {
            "tags": []
          },
          "execution_count": 45
        }
      ]
    },
    {
      "cell_type": "code",
      "metadata": {
        "id": "HkcudI_1qLJt"
      },
      "source": [
        "X_tr_=X_tr.reshape(-1,12544)\n",
        "X_tr_2 = X_tr_"
      ],
      "execution_count": 46,
      "outputs": []
    },
    {
      "cell_type": "code",
      "metadata": {
        "colab": {
          "base_uri": "https://localhost:8080/"
        },
        "id": "OMl4TJ2QqOWW",
        "outputId": "e45726a2-c46e-4339-a1e1-ed07270701d8"
      },
      "source": [
        "X_tr_.shape"
      ],
      "execution_count": 47,
      "outputs": [
        {
          "output_type": "execute_result",
          "data": {
            "text/plain": [
              "(1769, 12544)"
            ]
          },
          "metadata": {
            "tags": []
          },
          "execution_count": 47
        }
      ]
    },
    {
      "cell_type": "code",
      "metadata": {
        "colab": {
          "base_uri": "https://localhost:8080/"
        },
        "id": "GV_Kqg9tqRH3",
        "outputId": "66d818d8-179c-4860-cd3a-2e2c57035664"
      },
      "source": [
        "X_te.shape"
      ],
      "execution_count": 48,
      "outputs": [
        {
          "output_type": "execute_result",
          "data": {
            "text/plain": [
              "(1769, 112, 112, 1)"
            ]
          },
          "metadata": {
            "tags": []
          },
          "execution_count": 48
        }
      ]
    },
    {
      "cell_type": "code",
      "metadata": {
        "id": "PVb9XU_sqTJ7"
      },
      "source": [
        "X_te_=X_te.reshape(-1,12544)\n",
        "X_te_2 = X_te_"
      ],
      "execution_count": 49,
      "outputs": []
    },
    {
      "cell_type": "code",
      "metadata": {
        "colab": {
          "base_uri": "https://localhost:8080/"
        },
        "id": "S2QWOtUpqVND",
        "outputId": "ee845802-ed5d-4f71-a101-44dd71a8375c"
      },
      "source": [
        "X_te_.shape"
      ],
      "execution_count": 50,
      "outputs": [
        {
          "output_type": "execute_result",
          "data": {
            "text/plain": [
              "(1769, 12544)"
            ]
          },
          "metadata": {
            "tags": []
          },
          "execution_count": 50
        }
      ]
    },
    {
      "cell_type": "code",
      "metadata": {
        "colab": {
          "base_uri": "https://localhost:8080/"
        },
        "id": "KI5eps6pqX0K",
        "outputId": "371047ca-7f6b-4f35-b2e4-3899657b1d63"
      },
      "source": [
        "y_tr"
      ],
      "execution_count": 51,
      "outputs": [
        {
          "output_type": "execute_result",
          "data": {
            "text/plain": [
              "array([0, 0, 1, ..., 1, 0, 0])"
            ]
          },
          "metadata": {
            "tags": []
          },
          "execution_count": 51
        }
      ]
    },
    {
      "cell_type": "code",
      "metadata": {
        "id": "WyiHSu2rk5gE"
      },
      "source": [
        "import matplotlib.pyplot as plt\n",
        "from sklearn import datasets, svm, metrics\n",
        "clf = svm.SVC(gamma=0.001)\n",
        "\n",
        "clf.fit(X_tr_, y_tr)\n",
        "predicted = clf.predict(X_te_)"
      ],
      "execution_count": 52,
      "outputs": []
    },
    {
      "cell_type": "code",
      "metadata": {
        "colab": {
          "base_uri": "https://localhost:8080/"
        },
        "id": "i5SrsxQHs5U6",
        "outputId": "41959353-9ea6-4843-e051-b91fe1ceff36"
      },
      "source": [
        "from sklearn.metrics import accuracy_score\n",
        "accuracy_score(y_tr, predicted)"
      ],
      "execution_count": 53,
      "outputs": [
        {
          "output_type": "execute_result",
          "data": {
            "text/plain": [
              "0.5138496325607688"
            ]
          },
          "metadata": {
            "tags": []
          },
          "execution_count": 53
        }
      ]
    },
    {
      "cell_type": "code",
      "metadata": {
        "colab": {
          "base_uri": "https://localhost:8080/",
          "height": 388
        },
        "id": "I01s1XgBBsI3",
        "outputId": "6258ca8f-6a1f-4797-c669-5cee640d7b5f"
      },
      "source": [
        "from sklearn import svm, datasets\n",
        "import seaborn as sns\n",
        "from sklearn.model_selection import train_test_split\n",
        "from sklearn.metrics import plot_confusion_matrix\n",
        "from sklearn.metrics import confusion_matrix\n",
        "cm = confusion_matrix(y_te,predicted)\n",
        "plt.figure(figsize=(6,6))\n",
        "sns.heatmap(cm, cbar=False, fmt='d', annot=True, cmap='Blues')\n",
        "plt.xlabel('Predicted')\n",
        "plt.ylabel('Actual')\n",
        "plt.show()"
      ],
      "execution_count": 54,
      "outputs": [
        {
          "output_type": "display_data",
          "data": {
            "image/png": "[encoded data removed]",
            "text/plain": [
              "<Figure size 432x432 with 1 Axes>"
            ]
          },
          "metadata": {
            "tags": [],
            "needs_background": "light"
          }
        }
      ]
    },
    {
      "cell_type": "code",
      "metadata": {
        "id": "dVC__rLg1gmv"
      },
      "source": [
        "acc1 = accuracy_score(y_tr, predicted)"
      ],
      "execution_count": 55,
      "outputs": []
    },
    {
      "cell_type": "code",
      "metadata": {
        "colab": {
          "base_uri": "https://localhost:8080/"
        },
        "id": "hSjc-AtEr-W0",
        "outputId": "62a2b259-bb0b-47d9-ed2d-fe08d170cb3f"
      },
      "source": [
        "from sklearn.multiclass import OneVsRestClassifier\n",
        "#x, y = make_classification(n_samples=1000, n_features=10, n_informative=5, n_redundant=5, n_classes=3, random_state=1)\n",
        "ovr = OneVsRestClassifier(clf)\n",
        "ovr.fit(X_te_, y_te)\n",
        "print(ovr.score(X_tr_,y_tr))\n",
        "predicted = ovr.predict(X_te_)"
      ],
      "execution_count": 56,
      "outputs": [
        {
          "output_type": "stream",
          "text": [
            "0.8535895986433013\n"
          ],
          "name": "stdout"
        }
      ]
    },
    {
      "cell_type": "code",
      "metadata": {
        "colab": {
          "base_uri": "https://localhost:8080/",
          "height": 388
        },
        "id": "qg0auG0sQ1hW",
        "outputId": "e8c48487-adf0-4f5e-8c73-728364b20437"
      },
      "source": [
        "cm = confusion_matrix(y_te,predicted)\n",
        "plt.figure(figsize=(6,6))\n",
        "sns.heatmap(cm, cbar=False, fmt='d', annot=True, cmap='Blues')\n",
        "plt.xlabel('Predicted')\n",
        "plt.ylabel('Actual')\n",
        "plt.show()"
      ],
      "execution_count": 57,
      "outputs": [
        {
          "output_type": "display_data",
          "data": {
            "image/png": "[encoded data removed]",
            "text/plain": [
              "<Figure size 432x432 with 1 Axes>"
            ]
          },
          "metadata": {
            "tags": [],
            "needs_background": "light"
          }
        }
      ]
    },
    {
      "cell_type": "markdown",
      "metadata": {
        "id": "xT1CUSd4xdfa"
      },
      "source": [
        "Lda followed by svm"
      ]
    },
    {
      "cell_type": "code",
      "metadata": {
        "id": "iR_-5cs6xf3N"
      },
      "source": [
        "from sklearn.discriminant_analysis import LinearDiscriminantAnalysis as LDA\n",
        "\n",
        "lda = LDA(n_components=1)\n",
        "X_tr_ = lda.fit_transform(X_tr_, y_tr)\n",
        "X_te_ = lda.transform(X_te_)"
      ],
      "execution_count": 58,
      "outputs": []
    },
    {
      "cell_type": "code",
      "metadata": {
        "colab": {
          "base_uri": "https://localhost:8080/"
        },
        "id": "9OJrP0AFx68r",
        "outputId": "dd868495-bede-4d23-bfaa-ff7559de9383"
      },
      "source": [
        "clf.fit(X_tr_, y_tr)\n",
        "y_pred = clf.predict(X_te_)\n",
        "accuracy_score(y_te, y_pred)"
      ],
      "execution_count": 59,
      "outputs": [
        {
          "output_type": "execute_result",
          "data": {
            "text/plain": [
              "0.6365178066704352"
            ]
          },
          "metadata": {
            "tags": []
          },
          "execution_count": 59
        }
      ]
    },
    {
      "cell_type": "code",
      "metadata": {
        "colab": {
          "base_uri": "https://localhost:8080/",
          "height": 388
        },
        "id": "jbxC4D5QNRIv",
        "outputId": "753c396d-9cfe-41db-cde9-4d4cd114da44"
      },
      "source": [
        "cm = confusion_matrix(y_te,y_pred)\n",
        "plt.figure(figsize=(6,6))\n",
        "sns.heatmap(cm, cbar=False,fmt='d', annot=True, cmap='Blues')\n",
        "plt.xlabel('Predicted')\n",
        "plt.ylabel('Actual')\n",
        "plt.show()"
      ],
      "execution_count": 61,
      "outputs": [
        {
          "output_type": "display_data",
          "data": {
            "image/png": "[encoded data removed]",
            "text/plain": [
              "<Figure size 432x432 with 1 Axes>"
            ]
          },
          "metadata": {
            "tags": [],
            "needs_background": "light"
          }
        }
      ]
    },
    {
      "cell_type": "code",
      "metadata": {
        "id": "Cb9iIw5R1mTm"
      },
      "source": [
        "acc2 = accuracy_score(y_te, y_pred)"
      ],
      "execution_count": null,
      "outputs": []
    },
    {
      "cell_type": "markdown",
      "metadata": {
        "id": "WPT2oo0rufm8"
      },
      "source": [
        "k neighbours\n"
      ]
    },
    {
      "cell_type": "code",
      "metadata": {
        "id": "mDbgH83quo8e"
      },
      "source": [
        "#(X_val,X_te,y_val,y_te)=train_test_split(images,labels,test_size=0.1,random_state=0)\n",
        "(X_val, X_tr, y_val, y_tr) = train_test_split(X_tr, y_tr, test_size=0.9)"
      ],
      "execution_count": 62,
      "outputs": []
    },
    {
      "cell_type": "code",
      "metadata": {
        "id": "CAr36B46u5-u"
      },
      "source": [
        "X_val_=X_val.reshape(-1,12544)\n",
        "X_te_=X_te.reshape(-1,12544)\n",
        "X_tr_=X_tr.reshape(-1,12544)"
      ],
      "execution_count": 63,
      "outputs": []
    },
    {
      "cell_type": "code",
      "metadata": {
        "colab": {
          "base_uri": "https://localhost:8080/"
        },
        "id": "LlSZv1x3vDoo",
        "outputId": "d4433243-36b0-4170-c757-44abc529160a"
      },
      "source": [
        "X_val_.shape"
      ],
      "execution_count": 64,
      "outputs": [
        {
          "output_type": "execute_result",
          "data": {
            "text/plain": [
              "(176, 12544)"
            ]
          },
          "metadata": {
            "tags": []
          },
          "execution_count": 64
        }
      ]
    },
    {
      "cell_type": "code",
      "metadata": {
        "colab": {
          "base_uri": "https://localhost:8080/"
        },
        "id": "G01p6gk08rAJ",
        "outputId": "00771cce-571b-4d6c-ff96-7d1ed50f16f9"
      },
      "source": [
        "X_te_.shape"
      ],
      "execution_count": 65,
      "outputs": [
        {
          "output_type": "execute_result",
          "data": {
            "text/plain": [
              "(1769, 12544)"
            ]
          },
          "metadata": {
            "tags": []
          },
          "execution_count": 65
        }
      ]
    },
    {
      "cell_type": "code",
      "metadata": {
        "colab": {
          "base_uri": "https://localhost:8080/"
        },
        "id": "bRQTXe7b-LNC",
        "outputId": "6fbc5a80-18df-415e-b6c9-c33857214abb"
      },
      "source": [
        "X_tr_.shape"
      ],
      "execution_count": 66,
      "outputs": [
        {
          "output_type": "execute_result",
          "data": {
            "text/plain": [
              "(1593, 12544)"
            ]
          },
          "metadata": {
            "tags": []
          },
          "execution_count": 66
        }
      ]
    },
    {
      "cell_type": "code",
      "metadata": {
        "colab": {
          "base_uri": "https://localhost:8080/"
        },
        "id": "ZCu4tYHl4snZ",
        "outputId": "b52e964f-5444-42c6-ff79-2fc498758e9f"
      },
      "source": [
        "y_val"
      ],
      "execution_count": 67,
      "outputs": [
        {
          "output_type": "execute_result",
          "data": {
            "text/plain": [
              "array([1, 0, 1, 1, 0, 1, 0, 1, 0, 1, 0, 1, 1, 0, 1, 0, 0, 1, 1, 0, 0, 0,\n",
              "       0, 0, 1, 1, 1, 1, 1, 0, 1, 0, 0, 0, 0, 1, 0, 1, 1, 0, 1, 0, 1, 1,\n",
              "       1, 0, 0, 1, 0, 1, 1, 0, 1, 1, 1, 1, 0, 0, 0, 1, 1, 1, 1, 0, 0, 0,\n",
              "       1, 1, 1, 0, 1, 0, 1, 1, 0, 1, 0, 0, 0, 0, 0, 0, 0, 1, 1, 0, 1, 0,\n",
              "       1, 0, 0, 1, 1, 1, 1, 0, 1, 0, 1, 1, 0, 0, 1, 1, 0, 1, 1, 0, 0, 0,\n",
              "       1, 0, 1, 0, 0, 0, 1, 1, 0, 0, 0, 0, 0, 1, 1, 1, 1, 1, 1, 1, 1, 0,\n",
              "       0, 0, 1, 0, 1, 1, 0, 1, 0, 1, 0, 0, 0, 0, 0, 1, 0, 0, 0, 0, 0, 1,\n",
              "       1, 1, 0, 1, 0, 1, 1, 0, 0, 0, 1, 0, 1, 1, 0, 0, 0, 1, 0, 0, 0, 0])"
            ]
          },
          "metadata": {
            "tags": []
          },
          "execution_count": 67
        }
      ]
    },
    {
      "cell_type": "code",
      "metadata": {
        "colab": {
          "base_uri": "https://localhost:8080/"
        },
        "id": "xiIw1n5DvHNA",
        "outputId": "647012d6-be24-4cad-faae-41a61d25b2ec"
      },
      "source": [
        "X_te_.shape"
      ],
      "execution_count": 68,
      "outputs": [
        {
          "output_type": "execute_result",
          "data": {
            "text/plain": [
              "(1769, 12544)"
            ]
          },
          "metadata": {
            "tags": []
          },
          "execution_count": 68
        }
      ]
    },
    {
      "cell_type": "code",
      "metadata": {
        "colab": {
          "base_uri": "https://localhost:8080/"
        },
        "id": "dYaMtpdCsnOG",
        "outputId": "5cf2f1d6-47a5-4e3f-bce2-821e139c1421"
      },
      "source": [
        "from __future__ import print_function\n",
        "from sklearn.neighbors import KNeighborsClassifier\n",
        "from sklearn.metrics import classification_report\n",
        "from skimage import exposure\n",
        "import cv2\n",
        "\n",
        "\n",
        "kVals = [1,2,4,6]\n",
        "accuracies = []\n",
        "for k in kVals:\n",
        "\tmodel = KNeighborsClassifier(n_neighbors=k)\n",
        "\tmodel.fit(X_val_, y_val)\n",
        "\tscore = model.score(X_val_,y_val)\n",
        "\tprint(k, score * 100)\n",
        "\taccuracies.append(score)\n",
        " \n",
        "i = int(np.argmax(accuracies))\n",
        "print(kVals[i],\n",
        "\taccuracies[i] * 100)"
      ],
      "execution_count": 69,
      "outputs": [
        {
          "output_type": "stream",
          "text": [
            "1 100.0\n",
            "2 83.52272727272727\n",
            "4 81.25\n",
            "6 77.27272727272727\n",
            "1 100.0\n"
          ],
          "name": "stdout"
        }
      ]
    },
    {
      "cell_type": "code",
      "metadata": {
        "colab": {
          "base_uri": "https://localhost:8080/",
          "height": 265
        },
        "id": "n27NSdBNq4wO",
        "outputId": "617ba682-2512-4fb5-d193-5c0451619f0d"
      },
      "source": [
        "plt.plot(kVals, accuracies)\n",
        "plt.show()"
      ],
      "execution_count": 72,
      "outputs": [
        {
          "output_type": "display_data",
          "data": {
            "image/png": "[encoded data removed]",
            "text/plain": [
              "<Figure size 432x288 with 1 Axes>"
            ]
          },
          "metadata": {
            "tags": [],
            "needs_background": "light"
          }
        }
      ]
    },
    {
      "cell_type": "code",
      "metadata": {
        "colab": {
          "base_uri": "https://localhost:8080/"
        },
        "id": "jxI6IYPwvnwM",
        "outputId": "a89709d7-399c-4284-b4b0-62e19577972e"
      },
      "source": [
        "model = KNeighborsClassifier(n_neighbors=kVals[i])\n",
        "model.fit(X_tr_, y_tr)\n",
        "predictions = model.predict(X_te_)\n",
        "accuracy_score(y_te2, predictions)"
      ],
      "execution_count": 71,
      "outputs": [
        {
          "output_type": "execute_result",
          "data": {
            "text/plain": [
              "0.7659694742792538"
            ]
          },
          "metadata": {
            "tags": []
          },
          "execution_count": 71
        }
      ]
    },
    {
      "cell_type": "code",
      "metadata": {
        "colab": {
          "base_uri": "https://localhost:8080/",
          "height": 388
        },
        "id": "ORe22UtrNV2t",
        "outputId": "05444d27-7ae2-40eb-e04b-e3b3ce8fca39"
      },
      "source": [
        "cm = confusion_matrix(y_te,predictions)\n",
        "plt.figure(figsize=(6,6))\n",
        "sns.heatmap(cm, cbar=False, fmt='d', annot=True, cmap='Blues')\n",
        "plt.xlabel('Predicted')\n",
        "plt.ylabel('Actual')\n",
        "plt.show()"
      ],
      "execution_count": 73,
      "outputs": [
        {
          "output_type": "display_data",
          "data": {
            "image/png": "[encoded data removed]",
            "text/plain": [
              "<Figure size 432x432 with 1 Axes>"
            ]
          },
          "metadata": {
            "tags": [],
            "needs_background": "light"
          }
        }
      ]
    },
    {
      "cell_type": "code",
      "metadata": {
        "id": "GhD-55t11rHV"
      },
      "source": [
        "acc3 = accuracy_score(y_te, predictions)"
      ],
      "execution_count": null,
      "outputs": []
    }
  ]
}