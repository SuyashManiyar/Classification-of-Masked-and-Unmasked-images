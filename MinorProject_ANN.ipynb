{
  "nbformat": 4,
  "nbformat_minor": 0,
  "metadata": {
    "colab": {
      "name": "MinorProject_ANN.ipynb",
      "provenance": [],
      "collapsed_sections": []
    },
    "kernelspec": {
      "name": "python3",
      "display_name": "Python 3"
    },
    "language_info": {
      "name": "python"
    }
  },
  "cells": [
    {
      "cell_type": "code",
      "metadata": {
        "id": "hHSYP-XoP6Hz"
      },
      "source": [
        "import os\n",
        "import pandas as pd\n",
        "import numpy as np\n",
        "import cv2\n",
        "from tensorflow.keras.utils import to_categorical\n",
        "from sklearn.preprocessing import LabelBinarizer\n",
        "from sklearn.model_selection import train_test_split\n",
        "from tensorflow.keras import datasets, layers, models\n",
        "from tensorflow.keras import Sequential\n",
        "from tensorflow.keras.layers import Flatten, Dense, Softmax\n",
        "from tensorflow.keras import optimizers\n",
        "from keras.layers import Dropout\n",
        "from sklearn.metrics import confusion_matrix , classification_report\n",
        "from sklearn.metrics import accuracy_score\n",
        "import matplotlib.pyplot as plt\n",
        "import seaborn as sns"
      ],
      "execution_count": 1,
      "outputs": []
    },
    {
      "cell_type": "code",
      "metadata": {
        "colab": {
          "base_uri": "https://localhost:8080/"
        },
        "id": "yZmVdvg454Qb",
        "outputId": "9f60c50e-9c62-4a96-e7a5-53e60dd2435e"
      },
      "source": [
        "Image_Data=\"/content/drive/MyDrive/Data\"\n",
        "Data_Directory=os.listdir(Image_Data)\n",
        "print(Data_Directory)"
      ],
      "execution_count": 2,
      "outputs": [
        {
          "output_type": "stream",
          "text": [
            "['with_mask', 'without_mask']\n"
          ],
          "name": "stdout"
        }
      ]
    },
    {
      "cell_type": "markdown",
      "metadata": {
        "id": "FBddYMJvxA7H"
      },
      "source": [
        "Converting the images into Grey scale image to reduce computation time used by Model"
      ]
    },
    {
      "cell_type": "code",
      "metadata": {
        "id": "7AspEFDTQcib"
      },
      "source": [
        "image_list=[]\n",
        "\n",
        "\n",
        "for category in Data_Directory:\n",
        "    folder_path=os.path.join(Image_Data,category)\n",
        "    for image in os.listdir(folder_path):\n",
        "        image_path=os.path.join(folder_path,image)\n",
        "        image=cv2.imread(image_path)\n",
        "        grayscale_image=cv2.cvtColor(image,cv2.COLOR_BGR2GRAY)\n",
        "        resized_image=cv2.resize(grayscale_image,(112,112))\n",
        "            \n",
        "            \n",
        "        image_list.append(resized_image)\n",
        "       \n",
        "\n"
      ],
      "execution_count": 4,
      "outputs": []
    },
    {
      "cell_type": "markdown",
      "metadata": {
        "id": "OvZCVSxhxK2q"
      },
      "source": [
        "Normalising the Data"
      ]
    },
    {
      "cell_type": "code",
      "metadata": {
        "id": "SW1XOJWiZroW"
      },
      "source": [
        "image_list=np.array(image_list)/255.0\n",
        "image_list=np.reshape(image_list,(image_list.shape[0],112,112,1))"
      ],
      "execution_count": 5,
      "outputs": []
    },
    {
      "cell_type": "code",
      "metadata": {
        "id": "YOiP2Fq7XOa1"
      },
      "source": [
        "label1=[1]*3725\n",
        "label0=[0]*3828\n",
        "labelreal=label1+label0"
      ],
      "execution_count": 6,
      "outputs": []
    },
    {
      "cell_type": "code",
      "metadata": {
        "id": "_kiR6hrnQ6_b"
      },
      "source": [
        "\n",
        "labels=np.array(labelreal)\n",
        "(X_tr,X_te,y_tr,y_te)=train_test_split(image_list,labels,test_size=0.5,random_state=0)\n",
        "\n",
        "   \n",
        "\n"
      ],
      "execution_count": 7,
      "outputs": []
    },
    {
      "cell_type": "code",
      "metadata": {
        "colab": {
          "base_uri": "https://localhost:8080/"
        },
        "id": "aXwk-LTcVqI4",
        "outputId": "d65aa44c-36ab-418e-dcf1-18b2723b2d3d"
      },
      "source": [
        "labels"
      ],
      "execution_count": 8,
      "outputs": [
        {
          "output_type": "execute_result",
          "data": {
            "text/plain": [
              "array([1, 1, 1, ..., 0, 0, 0])"
            ]
          },
          "metadata": {
            "tags": []
          },
          "execution_count": 8
        }
      ]
    },
    {
      "cell_type": "code",
      "metadata": {
        "colab": {
          "base_uri": "https://localhost:8080/"
        },
        "id": "4gw_EzeGL4XU",
        "outputId": "8ee33100-a3f7-49e1-a196-b99b0ee29683"
      },
      "source": [
        "X_tr.shape"
      ],
      "execution_count": 9,
      "outputs": [
        {
          "output_type": "execute_result",
          "data": {
            "text/plain": [
              "(3776, 112, 112, 1)"
            ]
          },
          "metadata": {
            "tags": []
          },
          "execution_count": 9
        }
      ]
    },
    {
      "cell_type": "code",
      "metadata": {
        "colab": {
          "base_uri": "https://localhost:8080/"
        },
        "id": "UxymlAAHR_Ul",
        "outputId": "87672fa7-c6ed-41f4-866a-5eed50437f17"
      },
      "source": [
        "X_te.shape"
      ],
      "execution_count": 10,
      "outputs": [
        {
          "output_type": "execute_result",
          "data": {
            "text/plain": [
              "(3777, 112, 112, 1)"
            ]
          },
          "metadata": {
            "tags": []
          },
          "execution_count": 10
        }
      ]
    },
    {
      "cell_type": "markdown",
      "metadata": {
        "id": "23aDq3Zw2JZm"
      },
      "source": [
        "Reshaping the data because it is supposed to be fit into ANN and ANN accepts only 1 dimensional array"
      ]
    },
    {
      "cell_type": "code",
      "metadata": {
        "id": "YUli6Rph0rzo"
      },
      "source": [
        "X_tr=X_tr.reshape(-1,112*112)\n",
        "X_te=X_te.reshape(-1,112*112)"
      ],
      "execution_count": 11,
      "outputs": []
    },
    {
      "cell_type": "code",
      "metadata": {
        "colab": {
          "base_uri": "https://localhost:8080/"
        },
        "id": "NrqM0Xg706qn",
        "outputId": "45170bff-18a4-4fa0-b543-3b3e0b6f8999"
      },
      "source": [
        "X_tr.shape"
      ],
      "execution_count": 12,
      "outputs": [
        {
          "output_type": "execute_result",
          "data": {
            "text/plain": [
              "(3776, 12544)"
            ]
          },
          "metadata": {
            "tags": []
          },
          "execution_count": 12
        }
      ]
    },
    {
      "cell_type": "code",
      "metadata": {
        "colab": {
          "base_uri": "https://localhost:8080/"
        },
        "id": "jDv54JRM09hr",
        "outputId": "85bdf94c-aae0-4637-db63-0e3391e14449"
      },
      "source": [
        "X_te.shape"
      ],
      "execution_count": 13,
      "outputs": [
        {
          "output_type": "execute_result",
          "data": {
            "text/plain": [
              "(3777, 12544)"
            ]
          },
          "metadata": {
            "tags": []
          },
          "execution_count": 13
        }
      ]
    },
    {
      "cell_type": "code",
      "metadata": {
        "colab": {
          "base_uri": "https://localhost:8080/"
        },
        "id": "OmXa6f_DMKvb",
        "outputId": "9cceea19-950e-4fde-b5ca-69806ad87790"
      },
      "source": [
        "model = Sequential()\n",
        "\n",
        "#Input Layer\n",
        "model.add(Dense(X_tr.shape[1], activation='relu', input_dim = X_tr.shape[1]))\n",
        "\n",
        "#Hidden Layer\n",
        "\n",
        "model.add(Dense(3000, activation='relu'))\n",
        "model.add(Dropout(0.1))\n",
        "model.add(Dense(1000, activation='relu'))\n",
        "model.add(Dropout(0.1))\n",
        "model.add(Dense(100, activation='relu'))\n",
        "model.add(Dropout(0.1))\n",
        "\n",
        "\n",
        "#output layer\n",
        "model.add(Dense(2, activation = 'sigmoid'))\n",
        "\n",
        "model.compile(optimizer='SGD',\n",
        "              loss='sparse_categorical_crossentropy',\n",
        "              metrics=['accuracy','mse'])\n",
        "\n",
        "history=model.fit(X_tr, y_tr, epochs=10)"
      ],
      "execution_count": 33,
      "outputs": [
        {
          "output_type": "stream",
          "text": [
            "Epoch 1/10\n",
            "118/118 [==============================] - 103s 865ms/step - loss: 0.7485 - accuracy: 0.5723 - mse: 0.2703\n",
            "Epoch 2/10\n",
            "118/118 [==============================] - 102s 863ms/step - loss: 0.6128 - accuracy: 0.6728 - mse: 0.2704\n",
            "Epoch 3/10\n",
            "118/118 [==============================] - 102s 864ms/step - loss: 0.5701 - accuracy: 0.7054 - mse: 0.2792\n",
            "Epoch 4/10\n",
            "118/118 [==============================] - 102s 868ms/step - loss: 0.5092 - accuracy: 0.7485 - mse: 0.2922\n",
            "Epoch 5/10\n",
            "118/118 [==============================] - 102s 868ms/step - loss: 0.5065 - accuracy: 0.7497 - mse: 0.2970\n",
            "Epoch 6/10\n",
            "118/118 [==============================] - 103s 870ms/step - loss: 0.4900 - accuracy: 0.7569 - mse: 0.2983\n",
            "Epoch 7/10\n",
            "118/118 [==============================] - 103s 871ms/step - loss: 0.4357 - accuracy: 0.7890 - mse: 0.3094\n",
            "Epoch 8/10\n",
            "118/118 [==============================] - 104s 883ms/step - loss: 0.4273 - accuracy: 0.7964 - mse: 0.3101\n",
            "Epoch 9/10\n",
            "118/118 [==============================] - 102s 868ms/step - loss: 0.4128 - accuracy: 0.8050 - mse: 0.3131\n",
            "Epoch 10/10\n",
            "118/118 [==============================] - 102s 868ms/step - loss: 0.4076 - accuracy: 0.8111 - mse: 0.3129\n"
          ],
          "name": "stdout"
        }
      ]
    },
    {
      "cell_type": "code",
      "metadata": {
        "colab": {
          "base_uri": "https://localhost:8080/"
        },
        "id": "AJLeMD97fT_v",
        "outputId": "1053968a-db90-4837-de94-a69312b77ee3"
      },
      "source": [
        "model.summary()"
      ],
      "execution_count": 34,
      "outputs": [
        {
          "output_type": "stream",
          "text": [
            "Model: \"sequential_4\"\n",
            "_________________________________________________________________\n",
            "Layer (type)                 Output Shape              Param #   \n",
            "=================================================================\n",
            "dense_11 (Dense)             (None, 12544)             157364480 \n",
            "_________________________________________________________________\n",
            "dense_12 (Dense)             (None, 3000)              37635000  \n",
            "_________________________________________________________________\n",
            "dropout_6 (Dropout)          (None, 3000)              0         \n",
            "_________________________________________________________________\n",
            "dense_13 (Dense)             (None, 1000)              3001000   \n",
            "_________________________________________________________________\n",
            "dropout_7 (Dropout)          (None, 1000)              0         \n",
            "_________________________________________________________________\n",
            "dense_14 (Dense)             (None, 100)               100100    \n",
            "_________________________________________________________________\n",
            "dropout_8 (Dropout)          (None, 100)               0         \n",
            "_________________________________________________________________\n",
            "dense_15 (Dense)             (None, 2)                 202       \n",
            "=================================================================\n",
            "Total params: 198,100,782\n",
            "Trainable params: 198,100,782\n",
            "Non-trainable params: 0\n",
            "_________________________________________________________________\n"
          ],
          "name": "stdout"
        }
      ]
    },
    {
      "cell_type": "code",
      "metadata": {
        "id": "D0nWqkBPXHsp"
      },
      "source": [
        "y_predict = model.predict(X_te)"
      ],
      "execution_count": 35,
      "outputs": []
    },
    {
      "cell_type": "code",
      "metadata": {
        "id": "wsAJ4kvyZ6gs"
      },
      "source": [
        "predicted_class = [np.argmax(element) for element in y_predict]"
      ],
      "execution_count": 18,
      "outputs": []
    },
    {
      "cell_type": "code",
      "metadata": {
        "colab": {
          "base_uri": "https://localhost:8080/"
        },
        "id": "ke31qYEGaDbu",
        "outputId": "3d5b1d07-4450-4965-ab44-9691c13facb0"
      },
      "source": [
        "accuracy_ANN= accuracy_score(predicted_class,y_te)\n",
        "accuracy_ANN"
      ],
      "execution_count": 43,
      "outputs": [
        {
          "output_type": "execute_result",
          "data": {
            "text/plain": [
              "0.8075191951284088"
            ]
          },
          "metadata": {
            "tags": []
          },
          "execution_count": 43
        }
      ]
    },
    {
      "cell_type": "code",
      "metadata": {
        "id": "ebCZF-0PhyRq"
      },
      "source": [
        "listlabels=[\"Masked\",\"NotMasked\"]"
      ],
      "execution_count": 37,
      "outputs": []
    },
    {
      "cell_type": "code",
      "metadata": {
        "colab": {
          "base_uri": "https://localhost:8080/",
          "height": 388
        },
        "id": "cK18oK2nexWG",
        "outputId": "aad473c9-3770-4af1-c98e-6eb22f817143"
      },
      "source": [
        "cm = confusion_matrix(y_te,predicted_class)\n",
        "plt.figure(figsize=(6,6))\n",
        "sns.heatmap(cm, cbar=False, xticklabels=listlabels, yticklabels=listlabels, fmt='d', annot=True, cmap='Blues')\n",
        "plt.xlabel('Predicted')\n",
        "plt.ylabel('Actual')\n",
        "plt.show()"
      ],
      "execution_count": 38,
      "outputs": [
        {
          "output_type": "display_data",
          "data": {
            "image/png": "[encoded data removed]",
            "text/plain": [
              "<Figure size 432x432 with 1 Axes>"
            ]
          },
          "metadata": {
            "tags": [],
            "needs_background": "light"
          }
        }
      ]
    },
    {
      "cell_type": "code",
      "metadata": {
        "colab": {
          "base_uri": "https://localhost:8080/"
        },
        "id": "iP26ij6PwxEI",
        "outputId": "724234b0-1dfa-47ef-b505-f074450d7b2d"
      },
      "source": [
        "print(classification_report(y_te,predicted_class))"
      ],
      "execution_count": 22,
      "outputs": [
        {
          "output_type": "stream",
          "text": [
            "              precision    recall  f1-score   support\n",
            "\n",
            "           0       0.82      0.79      0.80      1892\n",
            "           1       0.79      0.83      0.81      1885\n",
            "\n",
            "    accuracy                           0.81      3777\n",
            "   macro avg       0.81      0.81      0.81      3777\n",
            "weighted avg       0.81      0.81      0.81      3777\n",
            "\n"
          ],
          "name": "stdout"
        }
      ]
    },
    {
      "cell_type": "code",
      "metadata": {
        "id": "vPszU1Qnlhn8"
      },
      "source": [
        "acc      = history.history[     'accuracy' ]\n",
        "\n",
        "loss     = history.history[    'loss' ]"
      ],
      "execution_count": 39,
      "outputs": []
    },
    {
      "cell_type": "code",
      "metadata": {
        "id": "xuJItP2Jlnid"
      },
      "source": [
        "epochs   = range(len(acc))"
      ],
      "execution_count": 40,
      "outputs": []
    },
    {
      "cell_type": "code",
      "metadata": {
        "colab": {
          "base_uri": "https://localhost:8080/",
          "height": 331
        },
        "id": "-UjLnLR4ltc4",
        "outputId": "280e64e3-eadb-46e4-b01b-613520813273"
      },
      "source": [
        "plt.plot  ( epochs,     acc )\n",
        "plt.title ('Training and  accuracy')\n",
        "\n",
        "plt.figure(figsize=(6,6))\n",
        "plt.figure()"
      ],
      "execution_count": 44,
      "outputs": [
        {
          "output_type": "execute_result",
          "data": {
            "text/plain": [
              "<Figure size 432x288 with 0 Axes>"
            ]
          },
          "metadata": {
            "tags": []
          },
          "execution_count": 44
        },
        {
          "output_type": "display_data",
          "data": {
            "image/png": "[encoded data removed]",
            "text/plain": [
              "<Figure size 432x288 with 1 Axes>"
            ]
          },
          "metadata": {
            "tags": [],
            "needs_background": "light"
          }
        },
        {
          "output_type": "display_data",
          "data": {
            "text/plain": [
              "<Figure size 432x432 with 0 Axes>"
            ]
          },
          "metadata": {
            "tags": []
          }
        },
        {
          "output_type": "display_data",
          "data": {
            "text/plain": [
              "<Figure size 432x288 with 0 Axes>"
            ]
          },
          "metadata": {
            "tags": []
          }
        }
      ]
    },
    {
      "cell_type": "code",
      "metadata": {
        "colab": {
          "base_uri": "https://localhost:8080/",
          "height": 298
        },
        "id": "ZH9IVk-Nl0gh",
        "outputId": "b5cea621-5427-4d1f-984b-0e5423199fc8"
      },
      "source": [
        "plt.plot  ( epochs,     loss )\n",
        "plt.title ('Training and  loss'   )"
      ],
      "execution_count": 42,
      "outputs": [
        {
          "output_type": "execute_result",
          "data": {
            "text/plain": [
              "Text(0.5, 1.0, 'Training and  loss')"
            ]
          },
          "metadata": {
            "tags": []
          },
          "execution_count": 42
        },
        {
          "output_type": "display_data",
          "data": {
            "image/png": "[encoded data removed]",
            "text/plain": [
              "<Figure size 432x288 with 1 Axes>"
            ]
          },
          "metadata": {
            "tags": [],
            "needs_background": "light"
          }
        }
      ]
    }
  ]
}